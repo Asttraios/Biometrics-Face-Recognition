{
 "cells": [
  {
   "cell_type": "code",
   "execution_count": null,
   "metadata": {},
   "outputs": [
    {
     "name": "stderr",
     "output_type": "stream",
     "text": [
      "c:\\Users\\nosinska\\Desktop\\PWr\\sem_5\\biometry\\.venv\\Lib\\site-packages\\albumentations\\check_version.py:51: UserWarning: Error fetching version info <urlopen error timed out>\n",
      "  data = fetch_version_info()\n"
     ]
    }
   ],
   "source": [
    "from huggingface_hub import snapshot_download\n",
    "from insightface.app import FaceAnalysis\n",
    "import numpy as np\n",
    "import cv2\n",
    "import itertools"
   ]
  },
  {
   "cell_type": "markdown",
   "metadata": {},
   "source": [
    "### Pobranie modelu."
   ]
  },
  {
   "cell_type": "markdown",
   "metadata": {},
   "source": [
    "Model: https://huggingface.co/fal/AuraFace-v1"
   ]
  },
  {
   "cell_type": "code",
   "execution_count": null,
   "metadata": {},
   "outputs": [
    {
     "name": "stderr",
     "output_type": "stream",
     "text": [
      "c:\\Users\\nosinska\\Desktop\\PWr\\sem_5\\biometry\\.venv\\Lib\\site-packages\\onnxruntime\\capi\\onnxruntime_inference_collection.py:115: UserWarning: Specified provider 'CUDAExecutionProvider' is not in available provider names.Available providers: 'AzureExecutionProvider, CPUExecutionProvider'\n",
      "  warnings.warn(\n"
     ]
    },
    {
     "name": "stdout",
     "output_type": "stream",
     "text": [
      "Applied providers: ['CPUExecutionProvider'], with options: {'CPUExecutionProvider': {}}\n",
      "find model: .\\models\\auraface\\1k3d68.onnx landmark_3d_68 ['None', 3, 192, 192] 0.0 1.0\n",
      "Applied providers: ['CPUExecutionProvider'], with options: {'CPUExecutionProvider': {}}\n",
      "find model: .\\models\\auraface\\2d106det.onnx landmark_2d_106 ['None', 3, 192, 192] 0.0 1.0\n",
      "Applied providers: ['CPUExecutionProvider'], with options: {'CPUExecutionProvider': {}}\n",
      "find model: .\\models\\auraface\\genderage.onnx genderage ['None', 3, 96, 96] 0.0 1.0\n",
      "Applied providers: ['CPUExecutionProvider'], with options: {'CPUExecutionProvider': {}}\n",
      "find model: .\\models\\auraface\\glintr100.onnx recognition ['None', 3, 112, 112] 127.5 127.5\n",
      "Applied providers: ['CPUExecutionProvider'], with options: {'CPUExecutionProvider': {}}\n",
      "find model: .\\models\\auraface\\scrfd_10g_bnkps.onnx detection [1, 3, '?', '?'] 127.5 128.0\n",
      "set det-size: (640, 640)\n"
     ]
    }
   ],
   "source": [
    "# snapshot_download(\n",
    "#     \"fal/AuraFace-v1\",\n",
    "#     local_dir=\"models/auraface\",\n",
    "# ) # uncomment for first download\n",
    "face_app = FaceAnalysis(\n",
    "    name=\"auraface\",\n",
    "    providers=[\"CUDAExecutionProvider\", \"CPUExecutionProvider\"],\n",
    "    root=\".\",\n",
    ")\n",
    "face_app.prepare(ctx_id=-1)"
   ]
  },
  {
   "cell_type": "markdown",
   "metadata": {},
   "source": [
    "Funkcje do porównywania wektorów reprezentacji(embeding)."
   ]
  },
  {
   "cell_type": "code",
   "execution_count": 2,
   "metadata": {},
   "outputs": [],
   "source": [
    "def cosine_similarity(embedding1, embedding2):\n",
    "    dot_product = np.dot(embedding1, embedding2)\n",
    "    norm1 = np.linalg.norm(embedding1)\n",
    "    norm2 = np.linalg.norm(embedding2)\n",
    "    return dot_product / (norm1 * norm2)\n",
    "\n",
    "def euclidean_distance(embedding1, embedding2):\n",
    "    return np.linalg.norm(embedding1 - embedding2)"
   ]
  },
  {
   "cell_type": "markdown",
   "metadata": {},
   "source": [
    "Generowanie wektora reprezentacji ze zdjęcia."
   ]
  },
  {
   "cell_type": "code",
   "execution_count": 7,
   "metadata": {},
   "outputs": [],
   "source": [
    "def get_embedding(image_path):\n",
    "    input_image = cv2.imread(image_path)\n",
    "\n",
    "    cv2_image = cv2.cvtColor(input_image, cv2.COLOR_BGR2RGB)\n",
    "\n",
    "    # cv2_image = cv2_image[:, :, ::-1]\n",
    "    faces = face_app.get(cv2_image)\n",
    "    embedding = faces[0].normed_embedding\n",
    "    return embedding"
   ]
  },
  {
   "cell_type": "markdown",
   "metadata": {},
   "source": [
    "### Część 1 - porównywanie zdjęć różnych osób."
   ]
  },
  {
   "cell_type": "code",
   "execution_count": null,
   "metadata": {},
   "outputs": [
    {
     "name": "stdout",
     "output_type": "stream",
     "text": [
      "photos/photo-1.jpeg photos/photo-2.jpeg\n",
      "Cos: 0.030051080510020256\n",
      "Euclidean: 1.392802119255066\n",
      "photos/photo-1.jpeg photos/photo-3.jpeg\n",
      "Cos: 0.12143760919570923\n",
      "Euclidean: 1.3255659341812134\n",
      "photos/photo-2.jpeg photos/photo-3.jpeg\n",
      "Cos: 0.15661245584487915\n",
      "Euclidean: 1.29875910282135\n"
     ]
    }
   ],
   "source": [
    "photos = [\"photos/photo-1.jpeg\", \"photos/photo-2.jpeg\", \"photos/photo-3.jpeg\"]\n",
    "photo_embd = {}\n",
    "for photo in photos:\n",
    "    photo_embd[photo] = get_embedding(photo)\n",
    "    \n",
    "pairs = itertools.combinations(photos, 2)\n",
    "\n",
    "for photo1, photo2 in pairs:\n",
    "    print(photo1, photo2)\n",
    "    print(f\"Cos: {cosine_similarity(photo_embd[photo1], photo_embd[photo2])}\")\n",
    "    print(f\"Euclidean: {euclidean_distance(photo_embd[photo1], photo_embd[photo2])}\")"
   ]
  },
  {
   "cell_type": "markdown",
   "metadata": {},
   "source": [
    "Początek do takich samych twarzy."
   ]
  },
  {
   "cell_type": "code",
   "execution_count": 15,
   "metadata": {},
   "outputs": [
    {
     "name": "stdout",
     "output_type": "stream",
     "text": [
      "Cos: 0.5860831141471863\n",
      "Euclidean: 0.9098536968231201\n"
     ]
    }
   ],
   "source": [
    "print(f\"Cos: {cosine_similarity(get_embedding(\"photos/bartek-3.jpg\"), get_embedding(\"photos/bartek-2.jpg\"))}\")\n",
    "print(f\"Euclidean: {euclidean_distance(get_embedding(\"photos/bartek-3.jpg\"), get_embedding(\"photos/bartek-2.jpg\"))}\")"
   ]
  }
 ],
 "metadata": {
  "kernelspec": {
   "display_name": ".venv",
   "language": "python",
   "name": "python3"
  },
  "language_info": {
   "codemirror_mode": {
    "name": "ipython",
    "version": 3
   },
   "file_extension": ".py",
   "mimetype": "text/x-python",
   "name": "python",
   "nbconvert_exporter": "python",
   "pygments_lexer": "ipython3",
   "version": "3.12.1"
  }
 },
 "nbformat": 4,
 "nbformat_minor": 2
}
