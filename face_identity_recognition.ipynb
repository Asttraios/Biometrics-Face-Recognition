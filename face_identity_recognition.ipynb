{
 "cells": [
  {
   "cell_type": "code",
   "execution_count": 3,
   "metadata": {},
   "outputs": [
    {
     "name": "stdout",
     "output_type": "stream",
     "text": [
      "WARNING:tensorflow:From c:\\Users\\nosinska\\Desktop\\PWr\\sem_5\\biometry\\.venv\\Lib\\site-packages\\tf_keras\\src\\losses.py:2976: The name tf.losses.sparse_softmax_cross_entropy is deprecated. Please use tf.compat.v1.losses.sparse_softmax_cross_entropy instead.\n",
      "\n",
      "25-01-08 20:16:59 - Directory C:\\Users\\nosinska\\.deepface has been created\n",
      "25-01-08 20:16:59 - Directory C:\\Users\\nosinska\\.deepface\\weights has been created\n"
     ]
    }
   ],
   "source": [
    "import numpy as np\n",
    "import itertools\n",
    "import tensorflow as tf\n",
    "from deepface import DeepFace\n",
    "import pandas as pd"
   ]
  },
  {
   "cell_type": "markdown",
   "metadata": {},
   "source": [
    "### - detector 'opencv', model 'Facenet512'"
   ]
  },
  {
   "cell_type": "code",
   "execution_count": 4,
   "metadata": {},
   "outputs": [],
   "source": [
    "def get_embedding(photo_path):\n",
    "    return DeepFace.represent(\n",
    "                    photo_path, \n",
    "                    model_name=\"Facenet512\", \n",
    "                )"
   ]
  },
  {
   "cell_type": "markdown",
   "metadata": {},
   "source": [
    "Funkcje do porównywania wektorów reprezentacji(embeding)."
   ]
  },
  {
   "cell_type": "code",
   "execution_count": null,
   "metadata": {},
   "outputs": [],
   "source": [
    "def cosine_similarity(embedding1, embedding2):\n",
    "    dot_product = np.dot(embedding1, embedding2)\n",
    "    norm1 = np.linalg.norm(embedding1)\n",
    "    norm2 = np.linalg.norm(embedding2)\n",
    "    return dot_product / (norm1 * norm2)\n",
    "\n",
    "def euclidean_distance(embedding1, embedding2):\n",
    "    return np.linalg.norm(embedding1 - embedding2)"
   ]
  },
  {
   "cell_type": "code",
   "execution_count": null,
   "metadata": {},
   "outputs": [],
   "source": [
    "def photo_comparision(photo_list: list[str], file_name):\n",
    "    rows = {\"photo 1\": [], \"photo 2\": [], \"cosine similarity\": [], \"euclidean_distance\": []}\n",
    "    i=0\n",
    "    photo_embd = {}\n",
    "    for photo in photo_list:\n",
    "        photo_embd[photo] = get_embedding(photo)\n",
    "        \n",
    "    pairs = itertools.combinations(photo_list, 2)\n",
    "    for photo1, photo2 in pairs:\n",
    "        rows[photo1].append(photo1.split(\"/\")[-1])\n",
    "        rows[photo2].append(photo2.split(\"/\")[-1])\n",
    "        rows[photo1].append(cosine_similarity(photo_embd[photo1], photo_embd[photo2]))\n",
    "        rows[photo1].append(euclidean_distance(photo_embd[photo1], photo_embd[photo2]))\n",
    "\n",
    "    df = pd.DataFrame(rows)\n",
    "    print(df)\n",
    "    df.to_csv(file_name, mode='a')"
   ]
  },
  {
   "cell_type": "markdown",
   "metadata": {},
   "source": [
    "### Część 1 - porównywanie zdjęć różnych osób."
   ]
  },
  {
   "cell_type": "code",
   "execution_count": null,
   "metadata": {},
   "outputs": [
    {
     "name": "stdout",
     "output_type": "stream",
     "text": [
      "photos/photo-1.jpeg photos/photo-2.jpeg\n",
      "Cos: 0.030051080510020256\n",
      "Euclidean: 1.392802119255066\n",
      "photos/photo-1.jpeg photos/photo-3.jpeg\n",
      "Cos: 0.12143760919570923\n",
      "Euclidean: 1.3255659341812134\n",
      "photos/photo-2.jpeg photos/photo-3.jpeg\n",
      "Cos: 0.15661245584487915\n",
      "Euclidean: 1.29875910282135\n"
     ]
    }
   ],
   "source": [
    "photos = [\"photos/photo-1.jpeg\", \"photos/photo-2.jpeg\", \"photos/photo-3.jpeg\"]\n",
    "photo_comparision(photos, \"part_1\")"
   ]
  }
 ],
 "metadata": {
  "kernelspec": {
   "display_name": ".venv",
   "language": "python",
   "name": "python3"
  },
  "language_info": {
   "codemirror_mode": {
    "name": "ipython",
    "version": 3
   },
   "file_extension": ".py",
   "mimetype": "text/x-python",
   "name": "python",
   "nbconvert_exporter": "python",
   "pygments_lexer": "ipython3",
   "version": "3.12.1"
  }
 },
 "nbformat": 4,
 "nbformat_minor": 2
}
